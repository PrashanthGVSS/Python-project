{
  "nbformat": 4,
  "nbformat_minor": 0,
  "metadata": {
    "colab": {
      "provenance": []
    },
    "kernelspec": {
      "name": "python3",
      "display_name": "Python 3"
    },
    "language_info": {
      "name": "python"
    }
  },
  "cells": [
    {
      "cell_type": "code",
      "source": [
        "import random\n",
        "import smtplib\n",
        "from email.message import EmailMessage\n",
        "\n",
        "def generate_otp():\n",
        "    otp = ''.join([str(random.randint(0, 9)) for i in range(6)])\n",
        "    return otp\n",
        "\n",
        "def send_otp_via_email(otp, user_email):\n",
        "    server = smtplib.SMTP('smtp.gmail.com', 587)\n",
        "    server.starttls()\n",
        "    from_email = \"prashanthgvss123@gmail.com\"\n",
        "    password_mail = 'cvsy taev avej akvm'\n",
        "    server.login(from_email, password_mail)\n",
        "    msg = EmailMessage()\n",
        "    msg['Subject'] = 'Your OTP Code'\n",
        "    msg['From'] = from_email\n",
        "    msg['To'] = user_email\n",
        "    msg.set_content(f'Your OTP is: {otp}')\n",
        "    server.send_message(msg)\n",
        "    server.quit()\n",
        "    print(f\"OTP has been sent to {user_email}\")\n",
        "\n",
        "def get_user_otp():\n",
        "    return input(\"Enter the OTP you received: \")\n",
        "\n",
        "def verify_otp(input_otp, actual_otp):\n",
        "    if input_otp == actual_otp:\n",
        "        print(\"OTP verified\")\n",
        "    else:\n",
        "        print(\"Invalid OTP\")\n",
        "    return input_otp == actual_otp\n",
        "\n",
        "def main():\n",
        "    to_mail = input(\"Enter your email address: \")\n",
        "    otp = generate_otp()\n",
        "    send_otp_via_email(otp, to_mail)\n",
        "    attempts = 3\n",
        "    while attempts > 0:\n",
        "        user_otp = get_user_otp()\n",
        "        if verify_otp(user_otp, otp):\n",
        "            print(\"Access granted\")\n",
        "            return\n",
        "        else:\n",
        "            attempts -= 1\n",
        "            print(f\"Incorrect OTP. You have {attempts} attempts left.\")\n",
        "    print('Access denied!')\n",
        "\n",
        "main()\n"
      ],
      "metadata": {
        "colab": {
          "base_uri": "https://localhost:8080/"
        },
        "id": "e-FbiViNZvRS",
        "outputId": "a5444319-2561-4ed8-c5fb-7890a69918dc"
      },
      "execution_count": 7,
      "outputs": [
        {
          "output_type": "stream",
          "name": "stdout",
          "text": [
            "Enter your email address: prashanthgvss123@gmail.com\n",
            "OTP has been sent to prashanthgvss123@gmail.com\n",
            "Enter the OTP you received:  507536\n",
            "Invalid OTP\n",
            "Incorrect OTP. You have 2 attempts left.\n",
            "Enter the OTP you received: 507536\n",
            "OTP verified\n",
            "Access granted\n"
          ]
        }
      ]
    }
  ]
}